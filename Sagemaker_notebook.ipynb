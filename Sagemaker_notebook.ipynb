{
 "cells": [
  {
   "cell_type": "code",
   "execution_count": 2,
   "id": "a96afd94",
   "metadata": {},
   "outputs": [],
   "source": [
    "!pip install sagemaker ipywidgets --upgrade --quiet"
   ]
  },
  {
   "cell_type": "markdown",
   "id": "06fefd15",
   "metadata": {},
   "source": [
    "## Dataset preparation"
   ]
  },
  {
   "cell_type": "code",
   "execution_count": 3,
   "id": "064ff268",
   "metadata": {},
   "outputs": [],
   "source": [
    "import numpy as np\n",
    "\n",
    "# Load the dataset\n",
    "with np.load(\"dataset/100P100A.npz\") as data:\n",
    "    train_faces = data[\"arr_0\"]\n",
    "    train_labels = data[\"arr_1\"]\n",
    "    "
   ]
  },
  {
   "cell_type": "markdown",
   "id": "a81e7059",
   "metadata": {},
   "source": [
    "## Upload the database.npz to s3"
   ]
  },
  {
   "cell_type": "code",
   "execution_count": 8,
   "id": "cda4be35",
   "metadata": {},
   "outputs": [
    {
     "name": "stdout",
     "output_type": "stream",
     "text": [
      "database.npz uploaded to actors-dataset\n"
     ]
    }
   ],
   "source": [
    "import numpy as np\n",
    "import pandas as pd\n",
    "import boto3\n",
    "\n",
    "data = np.load('dataset/100P100A.npz')  # Replace 'your_file.npz' with the actual file path\n",
    "\n",
    "bucket_name = 'actors-dataset'\n",
    "folder_name = 'train'\n",
    "file_name = 'database.npz'  # The name you want for the file in the bucket\n",
    "\n",
    "# Create an S3 client\n",
    "s3 = boto3.client('s3')\n",
    "\n",
    "# Upload the loaded data to S3\n",
    "s3.upload_file('dataset/100P100A.npz', bucket_name, f'{folder_name}/database.npz')\n",
    "\n",
    "print(f\"{file_name} uploaded to {bucket_name}\")\n"
   ]
  },
  {
   "cell_type": "code",
   "execution_count": null,
   "id": "896d039a",
   "metadata": {},
   "outputs": [],
   "source": [
    "import sagemaker\n",
    "from sagemaker.tensorflow import TensorFlow\n",
    "\n",
    "sagemaker_session=sagemaker.Session()\n",
    "role = sagemaker.get_execution_role()\n",
    "\n",
    "train_data_location = 's3://{}/train'.format(bucket_name)\n",
    "output_path = 's3://{}/output'.format(bucket_name)\n",
    "\n",
    "estimator = TensorFlow(entry_point='training_script.py',\n",
    "                       role=role,\n",
    "                       train_instance_count=1,\n",
    "                       train_instance_type='ml.p2.xlarge',\n",
    "                       framework_version='2.6.0',\n",
    "                       py_version='py38',\n",
    "                       output_path=output_path,\n",
    "                       hyperparameters={\"epochs\": 10},\n",
    "                       sagemaker_session=sagemaker_session)\n",
    "\n",
    "estimator.fit({'train': train_data_location})"
   ]
  },
  {
   "cell_type": "code",
   "execution_count": null,
   "id": "209bd2ed",
   "metadata": {},
   "outputs": [],
   "source": [
    "print(output_path)"
   ]
  },
  {
   "cell_type": "markdown",
   "id": "030de164",
   "metadata": {},
   "source": [
    "## Deploy the model"
   ]
  },
  {
   "cell_type": "code",
   "execution_count": null,
   "id": "df22cdc3",
   "metadata": {},
   "outputs": [],
   "source": [
    "print(estimator.model_data)"
   ]
  },
  {
   "cell_type": "code",
   "execution_count": null,
   "id": "71f42097",
   "metadata": {},
   "outputs": [],
   "source": [
    "from sagemaker.tensorflow import TensorFlow, TensorFlowModel\n",
    "\n",
    "tensorflow_model = TensorFlowModel(\n",
    "    model_data=estimator.model_data,\n",
    "    role=role,\n",
    "    framework_version=\"2.6.0\",\n",
    "    sagemaker_session=sagemaker_session\n",
    ")"
   ]
  },
  {
   "cell_type": "code",
   "execution_count": null,
   "id": "e734f697",
   "metadata": {},
   "outputs": [],
   "source": [
    "predictor = tensorflow_model.deploy(\n",
    "    initial_instance_count=1,\n",
    "    instance_type=\"ml.m4.xlarge\",\n",
    "    endpoint_name=\"actor-recognizer-endpoint\" \n",
    ")"
   ]
  },
  {
   "cell_type": "markdown",
   "id": "0a8eee66",
   "metadata": {},
   "source": [
    "## Inference Example\n",
    "This is an inference example using the deployed model through SageMaker."
   ]
  },
  {
   "cell_type": "code",
   "execution_count": null,
   "id": "e099d24e",
   "metadata": {},
   "outputs": [],
   "source": [
    "import numpy as np\n",
    "from tensorflow.keras.datasets import mnist\n",
    "\n",
    "\n",
    "\n",
    "# Perform Inference using the deployed model\n",
    "\n",
    "result = predictor.predict(sample)\n",
    "\n",
    "print(result['predictions'])\n",
    "\n",
    "predicted_label = np.argmax(result['predictions'])\n",
    "print(\"Predicted Label:\", predicted_label)\n",
    "\n",
    "actual_label = y_test[sample_index]\n",
    "print(\"Actual Label:\", actual_label)\n"
   ]
  }
 ],
 "metadata": {
  "kernelspec": {
   "display_name": "conda_tensorflow2_p310",
   "language": "python",
   "name": "conda_tensorflow2_p310"
  },
  "language_info": {
   "codemirror_mode": {
    "name": "ipython",
    "version": 3
   },
   "file_extension": ".py",
   "mimetype": "text/x-python",
   "name": "python",
   "nbconvert_exporter": "python",
   "pygments_lexer": "ipython3",
   "version": "3.10.13"
  }
 },
 "nbformat": 4,
 "nbformat_minor": 5
}
